{
 "cells": [
  {
   "cell_type": "code",
   "execution_count": 21,
   "metadata": {},
   "outputs": [],
   "source": [
    "import glob\n",
    "import os\n",
    "from pathlib import Path\n",
    "import datetime\n",
    "import re\n",
    "import pandas as pd\n",
    "import dateutil.parser as dparser"
   ]
  },
  {
   "cell_type": "code",
   "execution_count": 2,
   "metadata": {},
   "outputs": [],
   "source": [
    "fpath = '/Users/meganmason491/Downloads/app_2021/data/' #first download from NSIDC, 4/9/2021"
   ]
  },
  {
   "cell_type": "code",
   "execution_count": 3,
   "metadata": {},
   "outputs": [],
   "source": [
    "fnames = []\n",
    "for i, path in enumerate(Path(fpath).rglob('*.xlsx')): #walks through all sub-dirs and looks for xlsx\n",
    "    fnames.append(path.name)"
   ]
  },
  {
   "cell_type": "code",
   "execution_count": 4,
   "metadata": {},
   "outputs": [],
   "source": [
    "pts = []\n",
    "ibs = []\n",
    "txs = []\n",
    "\n",
    "for pt in fnames:\n",
    "    if \"SNOW_PIT\" in pt:\n",
    "        pts.append(pt)\n",
    "        \n",
    "for ib in fnames:\n",
    "    if \"INTERVAL_BOARD\" in ib:\n",
    "        ibs.append(ib)\n",
    "        \n",
    "for tx in fnames:\n",
    "    if \"Depth\" in tx:\n",
    "        txs.append(tx)\n",
    "        \n"
   ]
  },
  {
   "cell_type": "code",
   "execution_count": 30,
   "metadata": {},
   "outputs": [],
   "source": [
    "\n",
    "for i in ibs:\n",
    "    match = re.search('\\d{4}\\d{2}\\d{2}', i)\n",
    "    date = datetime.datetime.strptime(match.group(), '%Y%m%d').date()\n"
   ]
  },
  {
   "cell_type": "code",
   "execution_count": 24,
   "metadata": {},
   "outputs": [
    {
     "data": {
      "text/plain": [
       "datetime.date(2021, 3, 22)"
      ]
     },
     "execution_count": 24,
     "metadata": {},
     "output_type": "execute_result"
    }
   ],
   "source": [
    "date"
   ]
  },
  {
   "cell_type": "code",
   "execution_count": 36,
   "metadata": {},
   "outputs": [
    {
     "data": {
      "text/plain": [
       "['BoiseRiver_BRBL_IDBRBL_20201118_DepthTransect.xlsx',\n",
       " 'BoiseRiver_BRBL_IDBRBL_20201202_DepthTransect.xlsx',\n",
       " 'BoiseRiver_BRBL_IDBRBL_20201218_DepthTransect.xlsx',\n",
       " 'BoiseRiver_BRBL_IDBRBL_20201227_DepthTransect.xlsx',\n",
       " 'BoiseRiver_BRBL_IDBRBL_20210107_DepthTransect.xlsx',\n",
       " 'BoiseRiver_BRBL_IDBRBL_20210116_DepthTransect.xlsx',\n",
       " 'BoiseRiver_BRBL_IDBRBL_20210122_DepthTransect (1).xlsx',\n",
       " 'BoiseRiver_BRBL_IDBRBL_20210129_DepthTransect.xlsx',\n",
       " 'BoiseRiver_BRBL_IDBRBL_20210205_DepthTransect.xlsx',\n",
       " 'BoiseRiver_BRBL_IDBRBL_20210211_DepthTransect.xlsx',\n",
       " 'BoiseRiver_BRBL_IDBRBL_20210217_DepthTransect.xlsx',\n",
       " 'BoiseRiver_BRBL_IDBRBL_20210302_DepthTransect.xlsx',\n",
       " 'BoiseRiver_BRBL_IDBRBL_20210309_DepthTransect.xlsx',\n",
       " 'BoiseRiver_BRBL_IDBRBL_20210323_DepthTransect.xlsx',\n",
       " 'BoiseRiver_BST_BB5_IDBRBL_20210107_DepthTransect.xlsx',\n",
       " 'BoiseRiver_BST_BB5_IDBRBL_20210122_DepthTransect.xlsx',\n",
       " 'BoiseRiver_BST_BB5_IDBRBL_20210129_DepthTransect.xlsx',\n",
       " 'BoiseRiver_BST_BB5_IDBRBL_20210205_DepthTransect.xlsx',\n",
       " 'BoiseRiver_BST_BB5_IDBRBL_20210217_DepthTransect.xlsx',\n",
       " 'BoiseRiver_BST_BB5_IDBRBL_20210223_DepthTransect.xlsx',\n",
       " 'BoiseRiver_BST_BB5_IDBRBL_20210302_DepthTransect.xlsx',\n",
       " 'BoiseRiver_BST_BB5_IDBRBL_20210309_DepthTransect.xlsx',\n",
       " 'BoiseRiver_BST_BB5_IDBRBL_20210323_DepthTransect.xlsx',\n",
       " 'BoiseRiver_LDP_BB2_IDBRBL_20201202_Depth Transect.xlsx',\n",
       " 'BoiseRiver_LDP_BB2_IDBRBL_20201218_Depth Transect.xlsx',\n",
       " 'BoiseRiver_LDP_BB2_IDBRBL_20210105_Depth Transect.xlsx',\n",
       " 'BoiseRiver_LDP_BB2_IDBRBL_20210112_Depth Transect.xlsx',\n",
       " 'BoiseRiver_LDP_BB2_IDBRBL_20210121_Depth Transect.xlsx',\n",
       " 'BoiseRiver_LDP_BB2_IDBRBL_20210126_Depth Transect.xlsx',\n",
       " 'BoiseRiver_LDP_BB2_IDBRBL_20210212_Depth Transect.xlsx',\n",
       " 'BoiseRiver_LDP_BB2_IDBRBL_20210219_Depth Transect.xlsx',\n",
       " 'BoiseRiver_LDP_BB2_IDBRBL_20210225_Depth Transect.xlsx',\n",
       " 'BoiseRiver_LDP_BB2_IDBRBL_20210304_Depth Transect.xlsx',\n",
       " 'BoiseRiver_LDP_BB2_IDBRBL_20210311_Depth Transect.xlsx',\n",
       " 'BoiseRiver_LDP_BB2_IDBRBL_202310323_Depth Transect.xlsx',\n",
       " 'BoiseRiver_Treeline_IDBRBL_20210104_DepthTransect.xlsx',\n",
       " 'BoiseRiver_Treeline_IDBRBL_20210112_DepthTransect.xlsx',\n",
       " 'BoiseRiver_Treeline_IDBRBL_20210121_DepthTransect.xlsx',\n",
       " 'BoiseRiver_Treeline_IDBRBL_20210126_DepthTransect.xlsx',\n",
       " 'BoiseRiver_Treeline_IDBRBL_20210203_DepthTransect.xlsx',\n",
       " 'BoiseRiver_Treeline_IDBRBL_20210212_DepthTransect.xlsx',\n",
       " 'BoiseRiver_Treeline_IDBRBL_20210219_DepthTransect.xlsx',\n",
       " 'BoiseRiver_Treeline_IDBRBL_20210225_DepthTransect.xlsx',\n",
       " 'BoiseRiver_Treeline_IDBRBL_20210304_DepthTransect.xlsx',\n",
       " 'BoiseRiver_Treeline_IDBRBL_20210311_DepthTransect.xlsx',\n",
       " 'BoiseRiver_Treeline_IDBRBL_20210323_DepthTransect.xlsx',\n",
       " 'MCS_20210127_Depth-Transect.xlsx',\n",
       " 'MCS_20210203_Depth-Transect.xlsx',\n",
       " 'MCS_20210210_Depth-Transect.xlsx',\n",
       " 'MCS_20210217_Depth-Transect.xlsx',\n",
       " 'MCS_20210224_Depth-Transect.xlsx',\n",
       " 'MCS_20210303_Depth-Transect.xlsx',\n",
       " 'MCS_20210310_Depth-Transect.xlsx',\n",
       " 'MCS_20210316_Depth-Transect.xlsx',\n",
       " 'MCS_20210324_Depth-Transect.xlsx',\n",
       " 'SBCO Depth data 03-03-21.xlsx',\n",
       " 'SBCO Depth data 03-10-21.xlsx',\n",
       " 'SBCO Depth data 03-17-21.xlsx',\n",
       " 'SBCO Depth data 03-21-21.xlsx',\n",
       " 'SBCO Depth data 1-15-21.xlsx',\n",
       " 'SBCO Depth data 1-20-21.xlsx',\n",
       " 'SBCO Depth data 1-27-21.xlsx',\n",
       " 'SBCO Depth data 2-10-21.xlsx',\n",
       " 'SBCO Depth data 2-24-21.xlsx',\n",
       " 'SBCO Depth data 2-3-21.xlsx',\n",
       " 'boiseRiver_BST_BB5_IDBRBL_20210116_DepthTransect.xlsx']"
      ]
     },
     "execution_count": 36,
     "metadata": {},
     "output_type": "execute_result"
    }
   ],
   "source": [
    "txs"
   ]
  },
  {
   "cell_type": "code",
   "execution_count": null,
   "metadata": {},
   "outputs": [],
   "source": []
  }
 ],
 "metadata": {
  "kernelspec": {
   "display_name": "Python 3",
   "language": "python",
   "name": "python3"
  },
  "language_info": {
   "codemirror_mode": {
    "name": "ipython",
    "version": 3
   },
   "file_extension": ".py",
   "mimetype": "text/x-python",
   "name": "python",
   "nbconvert_exporter": "python",
   "pygments_lexer": "ipython3",
   "version": "3.7.9"
  }
 },
 "nbformat": 4,
 "nbformat_minor": 4
}
