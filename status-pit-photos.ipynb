{
 "cells": [
  {
   "cell_type": "code",
   "execution_count": 7,
   "metadata": {},
   "outputs": [],
   "source": [
    "import glob\n",
    "import os\n",
    "from pathlib import Path\n",
    "import datetime\n",
    "import re\n",
    "import pandas as pd\n",
    "import dateutil.parser as dparser"
   ]
  },
  {
   "cell_type": "code",
   "execution_count": 8,
   "metadata": {},
   "outputs": [],
   "source": [
    "fpath_bookphotos = '/Users/meganmason491/Google Drive/SnowEx-2021/SnowEx2021_TimeSeries_Photos/PitBookPhotos/'\n",
    "fpath_sitephotos = '/Users/meganmason491/Google Drive/SnowEx-2021/SnowEx2021_TimeSeries_Photos/ProtocolPhotos/'"
   ]
  },
  {
   "cell_type": "code",
   "execution_count": 11,
   "metadata": {},
   "outputs": [
    {
     "name": "stdout",
     "output_type": "stream",
     "text": [
      "0 %new_name.jpeg\n"
     ]
    }
   ],
   "source": [
    "fnames = []\n",
    "for i, path in enumerate(Path(fpath_bookphotos).rglob('*.jpeg')): #walks through all sub-dirs and looks for jpgs\n",
    "    fnames.append(path.name)\n",
    "    print(i, path.name)"
   ]
  },
  {
   "cell_type": "code",
   "execution_count": null,
   "metadata": {},
   "outputs": [],
   "source": [
    "pts = []\n",
    "ibs = []\n",
    "txs = []\n",
    "\n",
    "for pt in fnames:\n",
    "    if \"SNOW_PIT\" in pt:\n",
    "        pts.append(pt)\n",
    "        \n",
    "for ib in fnames:\n",
    "    if \"INTERVAL_BOARD\" in ib:\n",
    "        ibs.append(ib)\n",
    "        \n",
    "for tx in fnames:\n",
    "    if \"Depth\" in tx:\n",
    "        txs.append(tx)\n",
    "        \n"
   ]
  },
  {
   "cell_type": "code",
   "execution_count": null,
   "metadata": {},
   "outputs": [],
   "source": [
    "\n",
    "for i in ibs:\n",
    "    match = re.search('\\d{4}\\d{2}\\d{2}', i)\n",
    "    date = datetime.datetime.strptime(match.group(), '%Y%m%d').date()\n"
   ]
  },
  {
   "cell_type": "code",
   "execution_count": null,
   "metadata": {},
   "outputs": [],
   "source": [
    "date"
   ]
  },
  {
   "cell_type": "code",
   "execution_count": null,
   "metadata": {},
   "outputs": [],
   "source": [
    "txs"
   ]
  },
  {
   "cell_type": "code",
   "execution_count": null,
   "metadata": {},
   "outputs": [],
   "source": []
  }
 ],
 "metadata": {
  "kernelspec": {
   "display_name": "Python 3",
   "language": "python",
   "name": "python3"
  },
  "language_info": {
   "codemirror_mode": {
    "name": "ipython",
    "version": 3
   },
   "file_extension": ".py",
   "mimetype": "text/x-python",
   "name": "python",
   "nbconvert_exporter": "python",
   "pygments_lexer": "ipython3",
   "version": "3.7.9"
  }
 },
 "nbformat": 4,
 "nbformat_minor": 4
}
